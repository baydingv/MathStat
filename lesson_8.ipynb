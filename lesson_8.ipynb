{
 "cells": [
  {
   "cell_type": "markdown",
   "metadata": {},
   "source": [
    "Урок 8."
   ]
  },
  {
   "cell_type": "code",
   "execution_count": 1,
   "metadata": {},
   "outputs": [],
   "source": [
    "import numpy as np\n",
    "from scipy import stats\n",
    "import matplotlib.pyplot as plt\n",
    "%matplotlib inline"
   ]
  },
  {
   "cell_type": "markdown",
   "metadata": {},
   "source": [
    "1. Провести дисперсионный анализ для определения того, есть ли различия среднего роста среди взрослых футболистов, \n",
    "хоккеистов и штангистов. \n",
    "Даны значения роста в трех группах случайно выбранных спортсменов:\n",
    " Футболисты: 173, 175, 180, 178, 177, 185, 183, 182.\n",
    " Хоккеисты: 177, 179, 180, 188, 177, 172, 171, 184, 180.\n",
    " Штангисты: 172, 173, 169, 177, 166, 180, 178, 177, 172, 166, 170."
   ]
  },
  {
   "cell_type": "code",
   "execution_count": 2,
   "metadata": {},
   "outputs": [
    {
     "data": {
      "text/plain": [
       "F_onewayResult(statistic=5.500053450812596, pvalue=0.010482206918698694)"
      ]
     },
     "execution_count": 2,
     "metadata": {},
     "output_type": "execute_result"
    }
   ],
   "source": [
    "xF = np.array([173, 175, 180, 178, 177, 185, 183, 182])\n",
    "xH = np.array([177, 179, 180, 188, 177, 172, 171, 184, 180])\n",
    "xW = np.array([172, 173, 169, 177, 166, 180, 178, 177, 172, 166, 170])\n",
    "# Проверим 0-гипотезу - \"различия в росте у спортсменов разной специализации несущественны\" с 5% доверительным интервалом\n",
    "stats.f_oneway(xF,xH,xW)\n"
   ]
  },
  {
   "cell_type": "code",
   "execution_count": null,
   "metadata": {},
   "outputs": [],
   "source": [
    "# наблюдаемое значение критерия Фишера 5.5, вероятость того, что гипотеза верна, лежит за пределами 1% интервала \n",
    "# Н0- отвергаем, т.е. различия в росте имеют статистическое обоснование"
   ]
  }
 ],
 "metadata": {
  "kernelspec": {
   "display_name": "Python 3",
   "language": "python",
   "name": "python3"
  },
  "language_info": {
   "codemirror_mode": {
    "name": "ipython",
    "version": 3
   },
   "file_extension": ".py",
   "mimetype": "text/x-python",
   "name": "python",
   "nbconvert_exporter": "python",
   "pygments_lexer": "ipython3",
   "version": "3.7.3"
  }
 },
 "nbformat": 4,
 "nbformat_minor": 2
}
