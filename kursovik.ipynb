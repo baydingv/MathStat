{
 "cells": [
  {
   "cell_type": "markdown",
   "metadata": {},
   "source": [
    "Курсовая работа - анализ взаимозависимостей длины границ государств и их площади"
   ]
  },
  {
   "cell_type": "code",
   "execution_count": 2,
   "metadata": {},
   "outputs": [],
   "source": [
    "import numpy as np\n",
    "import pandas as pd\n",
    "import matplotlib.pyplot as plt"
   ]
  },
  {
   "cell_type": "code",
   "execution_count": 3,
   "metadata": {},
   "outputs": [
    {
     "data": {
      "text/plain": [
       "<matplotlib.collections.PathCollection at 0x2304c295ef0>"
      ]
     },
     "execution_count": 3,
     "metadata": {},
     "output_type": "execute_result"
    },
    {
     "data": {
      "image/png": "[encoded data removed]",
      "text/plain": [
       "<Figure size 432x288 with 1 Axes>"
      ]
     },
     "metadata": {
      "needs_background": "light"
     },
     "output_type": "display_data"
    }
   ],
   "source": [
    "# данные взяты отсюда: \n",
    "# https://ru.countries.world/world/%D0%9F%D0%BB%D0%BE%D1%89%D0%B0%D0%B4%D1%8C_%D1%82%D0%B5%D1%80%D1%80%D0%B8%D1%82%D0%BE%D1%80%D0%B8%D0%B8-33_0_2015_a.html\n",
    "# а после переработаны в три текстовых файла: cntry_sqr.txt, cntry_marg.txt, cntry_quot.txt \n",
    "# - площадь территории, длина границ и доля сухопутных границ\n",
    "# вычисляю коэфф.корреляции длины границ от площади сначала для всех стран, а потом отдельно по двум подгруппам:\n",
    "# преимущественно сухопутные страны (q>0.2) и преимущественно морские (q<=0.2)\n",
    "# Нулевая гипотеза - корреляция не зависит от типа подгрупп - все страны имеют единый r_xy\n",
    "# Получив к.кор для трех случаев, проверяю гипотезу, что отклонения в подгруппах - следствие случайного разброса\n",
    "\n",
    "frs = open(\"cntry_sqr.txt\",\"r\")\n",
    "lst_sqr =[]\n",
    "for line in frs:\n",
    "    lst = line.split()\n",
    "    lst_sqr.append([lst[0],float(lst[1])])\n",
    " \n",
    "#print(len(lst_sqr))\n",
    "sqr_ser = pd.Series(dict(lst_sqr))\n",
    "#print(sqr_ser)\n",
    "\n",
    "frm = open(\"cntry_marg.txt\",\"r\")\n",
    "lst_mrg =[]\n",
    "for line in frm:\n",
    "    lst = line.split()\n",
    "    lst_mrg.append([lst[0],float(lst[1])])\n",
    "\n",
    "mrg_ser = pd.Series(dict(lst_mrg))\n",
    "\n",
    "frq = open(\"cntry_quot.txt\",\"r\")\n",
    "lst_quo =[]\n",
    "for line in frq:\n",
    "    lst = line.split()\n",
    "    lst_quo.append([lst[0],float(lst[1])])\n",
    "\n",
    "quo_ser = pd.Series(dict(lst_quo))\n",
    "\n",
    "\n",
    "states = pd.DataFrame({'area':sqr_ser, 'margn':mrg_ser,'quota':quo_ser})\n",
    "quo = 0.2\n",
    "sta_1 = states[states.quota>quo]\n",
    "sta_2 = states[states.quota<=quo]\n",
    "\n",
    "plt.scatter(sta_1.area,sta_1.margn,c='red')  # сухопутные страны\n",
    "plt.scatter(sta_2.area,sta_2.margn,c='blue') # морские страны"
   ]
  },
  {
   "cell_type": "code",
   "execution_count": 4,
   "metadata": {},
   "outputs": [
    {
     "name": "stdout",
     "output_type": "stream",
     "text": [
      "231 149 82\n",
      "[[1.         0.59657302]\n",
      " [0.59657302 1.        ]] \n",
      " [[1.         0.94836463]\n",
      " [0.94836463 1.        ]] \n",
      " [[1.         0.76193205]\n",
      " [0.76193205 1.        ]]\n"
     ]
    }
   ],
   "source": [
    "print(len(states),len(sta_1),len(sta_2))\n",
    "corr_0 = np.corrcoef(states.area,states.margn)\n",
    "corr_1 = np.corrcoef(sta_1.area,sta_1.margn)\n",
    "corr_2 = np.corrcoef(sta_2.area,sta_2.margn)\n",
    "print(corr_0,'\\n',corr_1,'\\n',corr_2)"
   ]
  },
  {
   "cell_type": "code",
   "execution_count": 8,
   "metadata": {},
   "outputs": [
    {
     "name": "stdout",
     "output_type": "stream",
     "text": [
      "0.6776660677579618 0.06622661785325219\n"
     ]
    }
   ],
   "source": [
    "# итак, на полном множестве N=231 r_xy=0.59 (а на подмножествах: N=149 r_xy=0.94, N=82 r_xy=0.76).\n",
    "# пусть мат.ожидание коэфф.корреляции равно r=0.59, \n",
    "# какова вероятность получения значений r=0.94? на выборке N=149, и r=0.76, N=82?\n",
    "# Для чего от к.к перейдем к функциям w =  0.5*log((1.0+r)/(1.0-r)) и D=1/(N-3)\n",
    "# \n",
    "N,r= 231,0.59\n",
    "mu_0 = 0.5*np.log((1.0+r)/(1.0-r))\n",
    "sg_0 = 1.0/np.sqrt(N-3)\n",
    "\n",
    "N,r= 149,0.94\n",
    "mu_1 = 0.5*np.log((1.0+r)/(1.0-r))\n",
    "\n",
    "print(mu_0,sg_0)"
   ]
  },
  {
   "cell_type": "code",
   "execution_count": 10,
   "metadata": {},
   "outputs": [
    {
     "name": "stdout",
     "output_type": "stream",
     "text": [
      "-195.44448842796987\n"
     ]
    }
   ],
   "source": [
    "# стандартная нормальная величина имеет\n",
    "z = (mu_0 - mu_1)*np.sqrt(N)/sg_0\n",
    "print(z)\n",
    "# что свидетельствует о необходимости отказаться от 0-гипотезы"
   ]
  },
  {
   "cell_type": "code",
   "execution_count": null,
   "metadata": {},
   "outputs": [],
   "source": []
  }
 ],
 "metadata": {
  "kernelspec": {
   "display_name": "Python 3",
   "language": "python",
   "name": "python3"
  },
  "language_info": {
   "codemirror_mode": {
    "name": "ipython",
    "version": 3
   },
   "file_extension": ".py",
   "mimetype": "text/x-python",
   "name": "python",
   "nbconvert_exporter": "python",
   "pygments_lexer": "ipython3",
   "version": "3.7.3"
  }
 },
 "nbformat": 4,
 "nbformat_minor": 2
}
