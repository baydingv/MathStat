{
 "cells": [
  {
   "cell_type": "markdown",
   "metadata": {},
   "source": [
    "Урок 2."
   ]
  },
  {
   "cell_type": "markdown",
   "metadata": {},
   "source": [
    "import numpy as np"
   ]
  },
  {
   "cell_type": "code",
   "execution_count": 30,
   "metadata": {},
   "outputs": [],
   "source": [
    "def cFromNbyM(n,m):\n",
    "    rnm,rm, = 1.0,1.0\n",
    "    for i in range(2,m+1):\n",
    "        rm = rm*i  \n",
    "    for i in range(n-m+1,n+1):\n",
    "        rnm = rnm*i\n",
    "    return (rnm)/(rm)"
   ]
  },
  {
   "cell_type": "markdown",
   "metadata": {},
   "source": [
    "1. Вероятность того, что стрелок попадет в мишень, выстрелив один раз, равна 0.8. \n",
    "Стрелок выстрелил 100 раз. \n",
    "Найдите вероятность того, что стрелок попадет в цель ровно 85 раз."
   ]
  },
  {
   "cell_type": "code",
   "execution_count": 36,
   "metadata": {},
   "outputs": [
    {
     "name": "stdout",
     "output_type": "stream",
     "text": [
      "0.048061793700746355\n"
     ]
    }
   ],
   "source": [
    "# \n",
    "p,n,m = 0.8,100,85\n",
    "res = cFromNbyM(n,m)*(p**85)*(1-p)**15\n",
    "print(res)"
   ]
  },
  {
   "cell_type": "markdown",
   "metadata": {},
   "source": [
    "2. Вероятность того, что лампочка перегорит в течение первого дня эксплуатации, равна 0.0004. \n",
    "В жилом комплексе после ремонта в один день включили 5000 новых лампочек. \n",
    "Какова вероятность, что ни одна из них не перегорит в первый день? \n",
    "Какова вероятность, что перегорят ровно две?"
   ]
  },
  {
   "cell_type": "code",
   "execution_count": 52,
   "metadata": {},
   "outputs": [
    {
     "name": "stdout",
     "output_type": "stream",
     "text": [
      "0.13528114551440706\n",
      "0.2707247150266753\n"
     ]
    }
   ],
   "source": [
    "p,n,m = 0.0004,5000,2\n",
    "# a \n",
    "print((1-p)**n)\n",
    "# b\n",
    "print(cFromNbyM(n,m)*(p**m)*(1-p)**(n-m))"
   ]
  },
  {
   "cell_type": "markdown",
   "metadata": {},
   "source": [
    "3. Монету подбросили 144 раза. Какова вероятность, что орел выпадет ровно 70 раз?"
   ]
  },
  {
   "cell_type": "code",
   "execution_count": 37,
   "metadata": {},
   "outputs": [
    {
     "name": "stdout",
     "output_type": "stream",
     "text": [
      "0.06281178035144779\n"
     ]
    }
   ],
   "source": [
    "# Искомая величина вероятности =\n",
    "p,n,m = 0.5,144,70\n",
    "res = cFromNbyM(n,m)*(p**144)\n",
    "print(res)"
   ]
  },
  {
   "cell_type": "markdown",
   "metadata": {},
   "source": [
    "4. В первом ящике находится 10 мячей, из которых 7 - белые. Во втором ящике - 11 мячей, из которых 9 белых. \n",
    "Из каждого ящика вытаскивают случайным образом по два мяча. \n",
    "Какова вероятность того, что все мячи белые? \n",
    "Какова вероятность того, что ровно два мяча белые? \n",
    "Какова вероятность того, что хотя бы один мяч белый?\n"
   ]
  },
  {
   "cell_type": "code",
   "execution_count": 56,
   "metadata": {},
   "outputs": [],
   "source": [
    "# Вычислим вспомогательные величины:\n",
    "# количество всех комбинаций выбора 2 любых из 1го ящика\n",
    "C10_2 = cFromNbyM(10,2)\n",
    "# количество всех комбинаций выбора 2 любых из 2го ящика\n",
    "C11_2 = cFromNbyM(11,2)\n",
    "# количество всех комбинаций выбора из 2х ящиков\n",
    "C_tot = C10_2*C11_2\n",
    "# количество комбинаций выбора 0Белых из 1го и 2го ящика\n",
    "C0_1,C0_2  = cFromNbyM(3,2),cFromNbyM(2,2)\n",
    "# количество комбинаций выбора хотя бы одного Белых из 1го и 2го ящика\n",
    "Cx1_1,Cx1_2 = C10_2-C0_1,C11_2-C0_2"
   ]
  },
  {
   "cell_type": "code",
   "execution_count": 61,
   "metadata": {},
   "outputs": [
    {
     "data": {
      "text/plain": [
       "0.3054545454545455"
      ]
     },
     "execution_count": 61,
     "metadata": {},
     "output_type": "execute_result"
    }
   ],
   "source": [
    "# а) искомая вероятность есть сумма вероятностей: вынуть 2Б из 1го и 2Б из 2го\n",
    "cFromNbyM(7,2) *cFromNbyM(9,2) /C_tot"
   ]
  },
  {
   "cell_type": "code",
   "execution_count": 65,
   "metadata": {},
   "outputs": [
    {
     "data": {
      "text/plain": [
       "0.20484848484848484"
      ]
     },
     "execution_count": 65,
     "metadata": {},
     "output_type": "execute_result"
    }
   ],
   "source": [
    "# b) искомая вероятность есть сумма вероятностей: вынуть 0Б из 1го и 2Б из 2го + 1Б из 1го и 1Б из 2го + 2Б из 1го и 0Б из 2го\n",
    "(cFromNbyM(3,2)*cFromNbyM(9,2) + cFromNbyM(7,1)*cFromNbyM(3,1)*cFromNbyM(9,1)*cFromNbyM(2,1) + cFromNbyM(7,2)*cFromNbyM(2,2))/C_tot"
   ]
  },
  {
   "cell_type": "code",
   "execution_count": 66,
   "metadata": {},
   "outputs": [
    {
     "data": {
      "text/plain": [
       "0.9987878787878788"
      ]
     },
     "execution_count": 66,
     "metadata": {},
     "output_type": "execute_result"
    }
   ],
   "source": [
    "# c) искомая вероятность есть 1 - вероятность того, что все детали не белые\n",
    "1 - cFromNbyM(3,2)*cFromNbyM(2,2)/C_tot"
   ]
  }
 ],
 "metadata": {
  "kernelspec": {
   "display_name": "Python 3",
   "language": "python",
   "name": "python3"
  },
  "language_info": {
   "codemirror_mode": {
    "name": "ipython",
    "version": 3
   },
   "file_extension": ".py",
   "mimetype": "text/x-python",
   "name": "python",
   "nbconvert_exporter": "python",
   "pygments_lexer": "ipython3",
   "version": "3.7.3"
  }
 },
 "nbformat": 4,
 "nbformat_minor": 2
}
