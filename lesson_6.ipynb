{
 "cells": [
  {
   "cell_type": "markdown",
   "metadata": {},
   "source": [
    "Урок 6."
   ]
  },
  {
   "cell_type": "code",
   "execution_count": 9,
   "metadata": {},
   "outputs": [],
   "source": [
    "import numpy as np"
   ]
  },
  {
   "cell_type": "markdown",
   "metadata": {},
   "source": [
    "1. Даны значения величины заработной платы заемщиков банка (zp) и значения их поведенческого кредитного скоринга (ks):\n",
    "zp = [35, 45, 190, 200, 40, 70, 54, 150, 120, 110],\n",
    "ks = [401, 574, 874, 919, 459, 739, 653, 902, 746, 832].\n",
    "Найдите ковариацию этих двух величин с помощью элементарных действий, а затем с помощью функции cov из numpy\n",
    "Полученные значения должны быть равны.\n",
    "Найдите коэффициент корреляции Пирсона с помощью ковариации и среднеквадратичных отклонений двух признаков,\n",
    "а затем с использованием функций из библиотек numpy и pandas."
   ]
  },
  {
   "cell_type": "code",
   "execution_count": 26,
   "metadata": {},
   "outputs": [
    {
     "name": "stdout",
     "output_type": "stream",
     "text": [
      "cova =  9157.84 or 9157.840000000002\n",
      "corr =  0.8874900920739162  or  0.8874900920739163\n"
     ]
    }
   ],
   "source": [
    "zp = np.array([35, 45, 190, 200, 40, 70, 54, 150, 120, 110])\n",
    "ks = np.array([401, 574, 874, 919, 459, 739, 653, 902, 746, 832])\n",
    "xm = sum(zp)/len(zp)\n",
    "xc = zp - xm\n",
    "ym = sum(ks)/len(ks)\n",
    "yc = ks - ym\n",
    "\n",
    "cova = sum(xc*yc)/len(xc)\n",
    "covanp = np.cov(zp,ks,ddof=0)\n",
    "print('cova = ',cova, 'or',covanp[0,1]) \n",
    "\n",
    "sx = np.sqrt(sum(xc**2)/(len(xc)))\n",
    "sy = np.sqrt(sum(yc**2)/(len(yc)))\n",
    "\n",
    "corr = cova/(sx*sy)\n",
    "corrnp = np.corrcoef(zp,ks) # corr from numpy\n",
    "print('corr = ',corr,' or ',corrnp[0,1])"
   ]
  },
  {
   "cell_type": "markdown",
   "metadata": {},
   "source": [
    "2. Измерены значения IQ выборки студентов,\n",
    "обучающихся в местных технических вузах:\n",
    "131, 125, 115, 122, 131, 115, 107, 99, 125, 111.\n",
    "Известно, что в генеральной совокупности IQ распределен нормально.\n",
    "Найдите доверительный интервал для математического ожидания с надежностью 0.95."
   ]
  },
  {
   "cell_type": "code",
   "execution_count": 28,
   "metadata": {},
   "outputs": [
    {
     "name": "stdout",
     "output_type": "stream",
     "text": [
      "118.1 10.54566788359614\n",
      "[ 110.55660776308164  -  125.64339223691834 ]\n"
     ]
    }
   ],
   "source": [
    "x = np.array([131, 125, 115, 122, 131, 115, 107, 99, 125, 111])\n",
    "xm= sum(x)/len(x)\n",
    "D = sum((x - xm)**2)/(len(x)-1)\n",
    "s = np.sqrt(D)\n",
    "print(xm,s)\n",
    "\n",
    "t = 2.262 # по таблице стьюдента при n-1 = 9 и a=0.05 (а/2 = 0.025) - дисперсия генеральной совокупности неизвестна!!\n",
    "T1 = xm - t*s/np.sqrt(10)\n",
    "T2 = xm + t*s/np.sqrt(10)\n",
    "print('[',T1,' - ',T2,']')\n"
   ]
  },
  {
   "cell_type": "markdown",
   "metadata": {},
   "source": [
    "3. Известно, что рост футболистов в сборной распределен нормально\n",
    "с дисперсией генеральной совокупности, равной 25 кв.см. Объем выборки равен 27,\n",
    "среднее выборочное составляет 174.2. Найдите доверительный интервал для математического\n",
    "ожидания с надежностью 0.95."
   ]
  },
  {
   "cell_type": "code",
   "execution_count": 31,
   "metadata": {},
   "outputs": [
    {
     "name": "stdout",
     "output_type": "stream",
     "text": [
      "[ 164.7699456032361  -  183.63005439676388 ]\n"
     ]
    }
   ],
   "source": [
    "xm,s = 174.2, 25 # дисперсия генеральной совокупности известна!!\n",
    "z = 1.96         # a=0.05 (а/2 = 0.025)\n",
    "T1 = xm - z*s/np.sqrt(27) \n",
    "T2 = xm + z*s/np.sqrt(27)\n",
    "print('[',T1,' - ',T2,']')\n"
   ]
  },
  {
   "cell_type": "markdown",
   "metadata": {},
   "source": [
    "4. Выберите тему для проектной работы по курсу Теории вероятностей и математической статистики\n",
    "и напишите ее в комментарии к Практическому заданию."
   ]
  },
  {
   "cell_type": "code",
   "execution_count": null,
   "metadata": {},
   "outputs": [],
   "source": [
    "Предполагаю изучить связь площади стран мира и их длину границ"
   ]
  }
 ],
 "metadata": {
  "kernelspec": {
   "display_name": "Python 3",
   "language": "python",
   "name": "python3"
  },
  "language_info": {
   "codemirror_mode": {
    "name": "ipython",
    "version": 3
   },
   "file_extension": ".py",
   "mimetype": "text/x-python",
   "name": "python",
   "nbconvert_exporter": "python",
   "pygments_lexer": "ipython3",
   "version": "3.7.3"
  }
 },
 "nbformat": 4,
 "nbformat_minor": 2
}
